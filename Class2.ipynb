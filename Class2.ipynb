{
 "cells": [
  {
   "cell_type": "markdown",
   "metadata": {},
   "source": [
    "### 4153. 직각삼각형"
   ]
  },
  {
   "cell_type": "code",
   "execution_count": 2,
   "metadata": {},
   "outputs": [
    {
     "name": "stdout",
     "output_type": "stream",
     "text": [
      "right\n",
      "wrong\n",
      "right\n"
     ]
    }
   ],
   "source": [
    "while True:\n",
    "    nums=list(map(int,input().split()))\n",
    "    if nums==[0,0,0]:break\n",
    "    nums=sorted(nums)\n",
    "    if nums[0]**2+nums[1]**2==nums[2]**2:\n",
    "        print('right')\n",
    "    else:\n",
    "        print('wrong')"
   ]
  },
  {
   "cell_type": "markdown",
   "metadata": {},
   "source": [
    "### 1978. 소수 찾기"
   ]
  },
  {
   "cell_type": "code",
   "execution_count": 9,
   "metadata": {},
   "outputs": [
    {
     "name": "stdout",
     "output_type": "stream",
     "text": [
      "3\n"
     ]
    }
   ],
   "source": [
    "N=int(input())\n",
    "nums=list(map(int,input().split()))\n",
    "\n",
    "def is_prime(num):\n",
    "    if num==1: return False\n",
    "    elif num==2: return True\n",
    "    else:\n",
    "        for i in range(2,num):\n",
    "            if num%i==0: return False\n",
    "        return True\n",
    "\n",
    "cnt=0\n",
    "for n in nums:\n",
    "    if is_prime(n):cnt+=1\n",
    "print(cnt)"
   ]
  },
  {
   "cell_type": "markdown",
   "metadata": {},
   "source": [
    "### 2231. 분해합 \n",
    "+ 1 ≤ N ≤ 1,000,000"
   ]
  },
  {
   "cell_type": "code",
   "execution_count": 32,
   "metadata": {},
   "outputs": [
    {
     "name": "stdout",
     "output_type": "stream",
     "text": [
      "198\n"
     ]
    }
   ],
   "source": [
    "N=int(input())\n",
    "length=len(str(N))\n",
    "answer=0\n",
    "\n",
    "for num in range(N):\n",
    "    if num+sum(map(int,list(str(num))))==N:\n",
    "        answer=num\n",
    "        break\n",
    "print(answer)"
   ]
  }
 ],
 "metadata": {
  "kernelspec": {
   "display_name": "base",
   "language": "python",
   "name": "python3"
  },
  "language_info": {
   "codemirror_mode": {
    "name": "ipython",
    "version": 3
   },
   "file_extension": ".py",
   "mimetype": "text/x-python",
   "name": "python",
   "nbconvert_exporter": "python",
   "pygments_lexer": "ipython3",
   "version": "3.9.13"
  }
 },
 "nbformat": 4,
 "nbformat_minor": 2
}
